{
 "cells": [
  {
   "cell_type": "code",
   "execution_count": 6,
   "metadata": {},
   "outputs": [],
   "source": [
    "import sys; sys.path.append('..')\n",
    "from sklearn import svm\n",
    "from feature_extraction import bow_occurrences, bow_tfidf, bow_tfidf_df\n",
    "from preprocess_tweets import read_annotated_tweets, clean_tweets\n",
    "from sklearn import metrics\n",
    "from sklearn.model_selection import KFold, ShuffleSplit, cross_val_score, train_test_split\n",
    "from numpy import mean, std\n"
   ]
  },
  {
   "cell_type": "code",
   "execution_count": 7,
   "metadata": {},
   "outputs": [],
   "source": [
    "df = read_annotated_tweets(os.path.abspath('../data/classified/england_italy_tweets_classified1.csv'))\n",
    "clean_tweets(df)\n",
    "\n"
   ]
  },
  {
   "cell_type": "code",
   "execution_count": 8,
   "metadata": {},
   "outputs": [],
   "source": [
    "X_train, X_test, Y_train, Y_test = train_test_split(bow_tfidf(\n",
    "                                                                    df['tweet_text'], (1,1)), \n",
    "                                                                    df['label'], test_size=0.2, \n",
    "                                                                    \n",
    "                                                                    )\n"
   ]
  },
  {
   "cell_type": "code",
   "execution_count": 9,
   "metadata": {},
   "outputs": [
    {
     "name": "stdout",
     "output_type": "stream",
     "text": [
      "[0.58333333 0.54166667 0.5        0.47916667 0.52083333 0.625\n",
      " 0.54166667 0.58333333 0.52083333 0.47916667]\n",
      "0.5375\n",
      "0.04545296714431547\n"
     ]
    }
   ],
   "source": [
    "k_fold = KFold(n_splits=10, random_state=1, shuffle=True)\n",
    "rs = ShuffleSplit(n_splits=10, test_size=0.2, random_state=1)\n",
    "\n",
    "svm_model = svm.SVC(kernel='linear')\n",
    "\n",
    "scores = cross_val_score(svm_model, X_train, Y_train, cv=rs)\n",
    "\n",
    "print(scores)\n",
    "print(mean(scores))\n",
    "print(std(scores))\n"
   ]
  },
  {
   "cell_type": "code",
   "execution_count": 11,
   "metadata": {},
   "outputs": [
    {
     "name": "stdout",
     "output_type": "stream",
     "text": [
      "0.48333333333333334\n"
     ]
    }
   ],
   "source": [
    "svm_model = svm.SVC(kernel='linear')\n",
    "\n",
    "svm_model.fit(X_train, Y_train)\n",
    "\n",
    "scores = cross_val_score(svm_model, X_train, Y_train, cv=rs)\n",
    "\n",
    "predicted = svm_model.predict(X_test)\n",
    "acc_score = metrics.accuracy_score(predicted, Y_test)\n",
    "\n",
    "print(acc_score)"
   ]
  }
 ],
 "metadata": {
  "interpreter": {
   "hash": "916dbcbb3f70747c44a77c7bcd40155683ae19c65e1c03b4aa3499c5328201f1"
  },
  "kernelspec": {
   "display_name": "Python 3.8.5 64-bit",
   "language": "python",
   "name": "python3"
  },
  "language_info": {
   "codemirror_mode": {
    "name": "ipython",
    "version": 3
   },
   "file_extension": ".py",
   "mimetype": "text/x-python",
   "name": "python",
   "nbconvert_exporter": "python",
   "pygments_lexer": "ipython3",
   "version": "3.8.5"
  },
  "orig_nbformat": 4
 },
 "nbformat": 4,
 "nbformat_minor": 2
}
