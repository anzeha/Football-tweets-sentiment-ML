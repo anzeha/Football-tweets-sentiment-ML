{
 "cells": [
  {
   "cell_type": "code",
   "execution_count": 1,
   "metadata": {},
   "outputs": [],
   "source": [
    "import sys; sys.path.append('..')\n",
    "from sklearn import svm\n",
    "from feature_extraction import bow_occurrences, bow_tfidf, bow_tfidf_df\n",
    "from preprocess_tweets import read_annotated_tweets, clean_tweets\n",
    "from sklearn import metrics\n",
    "from sklearn.model_selection import KFold, ShuffleSplit, cross_val_score, train_test_split\n",
    "from numpy import mean, std\n",
    "import matplotlib.pylab as plt \n"
   ]
  },
  {
   "cell_type": "code",
   "execution_count": 2,
   "metadata": {},
   "outputs": [],
   "source": [
    "df = read_annotated_tweets(os.path.abspath('../data/classified/england_italy_tweets_classified1.csv'))\n",
    "clean_tweets(df)\n",
    "\n"
   ]
  },
  {
   "cell_type": "code",
   "execution_count": 3,
   "metadata": {},
   "outputs": [
    {
     "name": "stdout",
     "output_type": "stream",
     "text": [
      "  (1, 373)\t0.3779644730092272\n",
      "  (1, 381)\t0.3779644730092272\n",
      "  (1, 957)\t0.3779644730092272\n",
      "  (1, 407)\t0.3779644730092272\n",
      "  (1, 415)\t0.3779644730092272\n",
      "  (1, 382)\t0.3779644730092272\n",
      "  (1, 962)\t0.3779644730092272\n",
      "  (2, 861)\t0.4472135954999579\n",
      "  (2, 981)\t0.4472135954999579\n",
      "  (2, 671)\t0.4472135954999579\n",
      "  (2, 612)\t0.4472135954999579\n",
      "  (2, 685)\t0.4472135954999579\n",
      "  (3, 863)\t0.7071067811865476\n",
      "  (3, 1099)\t0.7071067811865476\n",
      "  (4, 974)\t0.7071067811865476\n",
      "  (4, 872)\t0.7071067811865476\n",
      "  (6, 445)\t0.7071067811865476\n",
      "  (6, 772)\t0.7071067811865476\n",
      "  (7, 413)\t0.408248290463863\n",
      "  (7, 1064)\t0.408248290463863\n",
      "  (7, 345)\t0.408248290463863\n",
      "  (7, 515)\t0.408248290463863\n",
      "  (7, 352)\t0.408248290463863\n",
      "  (7, 732)\t0.408248290463863\n",
      "  (8, 1094)\t0.5773502691896257\n",
      "  :\t:\n",
      "  (53, 422)\t0.2886751345948129\n",
      "  (53, 546)\t0.2886751345948129\n",
      "  (53, 647)\t0.2886751345948129\n",
      "  (53, 1072)\t0.2886751345948129\n",
      "  (53, 10)\t0.2886751345948129\n",
      "  (53, 936)\t0.2886751345948129\n",
      "  (53, 648)\t0.2886751345948129\n",
      "  (53, 190)\t0.2886751345948129\n",
      "  (54, 1086)\t0.5\n",
      "  (54, 312)\t0.5\n",
      "  (54, 945)\t0.5\n",
      "  (54, 950)\t0.5\n",
      "  (55, 812)\t0.3779644730092272\n",
      "  (55, 603)\t0.3779644730092272\n",
      "  (55, 110)\t0.3779644730092272\n",
      "  (55, 755)\t0.3779644730092272\n",
      "  (55, 73)\t0.3779644730092272\n",
      "  (55, 637)\t0.3779644730092272\n",
      "  (55, 67)\t0.3779644730092272\n",
      "  (56, 152)\t1.0\n",
      "  (57, 366)\t1.0\n",
      "  (58, 818)\t0.7071067811865476\n",
      "  (58, 384)\t0.7071067811865476\n",
      "  (59, 84)\t0.7071067811865476\n",
      "  (59, 428)\t0.7071067811865476\n",
      "(60, 1105)\n"
     ]
    }
   ],
   "source": [
    "X_train, X_test, Y_train, Y_test = train_test_split(bow_tfidf(\n",
    "                                                                    df['tweet_text'], (2,2)), \n",
    "                                                                    df['label'], test_size=0.2, \n",
    "                                                                    random_state=6\n",
    "                                                                    )\n",
    "\n",
    "print(X_test)\n",
    "print(X_test.shape)\n"
   ]
  },
  {
   "cell_type": "code",
   "execution_count": 95,
   "metadata": {},
   "outputs": [
    {
     "name": "stdout",
     "output_type": "stream",
     "text": [
      "[0.4375     0.4375     0.4375     0.45833333 0.54166667 0.4375\n",
      " 0.47916667 0.375      0.29166667 0.4375    ]\n",
      "0.4333333333333334\n",
      "0.061661035778953086\n"
     ]
    }
   ],
   "source": [
    "k_fold = KFold(n_splits=10, random_state=1, shuffle=True)\n",
    "rs = ShuffleSplit(n_splits=10, test_size=0.2, random_state=1)\n",
    "\n",
    "svm_model = svm.SVC(kernel='linear')\n",
    "\n",
    "scores = cross_val_score(svm_model, X_train, Y_train, cv=rs)\n",
    "\n",
    "print(scores)\n",
    "print(mean(scores))\n",
    "print(std(scores))\n"
   ]
  },
  {
   "cell_type": "code",
   "execution_count": 96,
   "metadata": {},
   "outputs": [
    {
     "name": "stdout",
     "output_type": "stream",
     "text": [
      "0.5\n",
      "0.3333333333333333\n",
      "0.16666666666666666\n",
      "0.2222222222222222\n"
     ]
    },
    {
     "name": "stderr",
     "output_type": "stream",
     "text": [
      "/home/anze/.local/lib/python3.8/site-packages/sklearn/metrics/_classification.py:1248: UndefinedMetricWarning: Recall is ill-defined and being set to 0.0 in labels with no true samples. Use `zero_division` parameter to control this behavior.\n",
      "  _warn_prf(average, modifier, msg_start, len(result))\n"
     ]
    }
   ],
   "source": [
    "svm_model = svm.SVC(kernel='linear')\n",
    "\n",
    "svm_model.fit(X_train, Y_train)\n",
    "\n",
    "predicted = svm_model.predict(X_test)\n",
    "acc_score = metrics.accuracy_score(predicted, Y_test)\n",
    "prec_score = metrics.precision_score(predicted, Y_test, average='macro')\n",
    "rec_score = metrics.recall_score(predicted, Y_test, average='macro')\n",
    "f1_score = metrics.f1_score(predicted, Y_test, average='macro')\n",
    "\n",
    "print(acc_score)\n",
    "print(prec_score)\n",
    "print(rec_score)\n",
    "print(f1_score)"
   ]
  },
  {
   "cell_type": "code",
   "execution_count": 117,
   "metadata": {},
   "outputs": [
    {
     "name": "stdout",
     "output_type": "stream",
     "text": [
      "[0.46168374522804906, 0.447356678174687, 0.2222222222222222, 0.42265795206971674]\n",
      "[0.5833333333333334, 0.5833333333333334, 0.5, 0.5833333333333334]\n"
     ]
    },
    {
     "data": {
      "image/png": "[encoded data removed]",
      "text/plain": [
       "<Figure size 432x288 with 1 Axes>"
      ]
     },
     "metadata": {
      "needs_background": "light"
     },
     "output_type": "display_data"
    }
   ],
   "source": [
    "\n",
    "X_train_1, X_test_1, Y_train_1, Y_test_1 = train_test_split(bow_tfidf(\n",
    "                                                                    df['tweet_text'], (1,1)), \n",
    "                                                                    df['label'], test_size=0.2, \n",
    "                                                                    random_state=6\n",
    "                                                                    )\n",
    "\n",
    "X_train_2, X_test_2, Y_train_2, Y_test_2 = train_test_split(bow_tfidf(\n",
    "                                                                    df['tweet_text'], (1,2)), \n",
    "                                                                    df['label'], test_size=0.2, \n",
    "                                                                    random_state=6\n",
    "                                                                    )\n",
    "\n",
    "X_train_3, X_test_3, Y_train_3, Y_test_3 = train_test_split(bow_tfidf(\n",
    "                                                                    df['tweet_text'], (2,2)), \n",
    "                                                                    df['label'], test_size=0.2, \n",
    "                                                                    random_state=6\n",
    "                                                                    )\n",
    "\n",
    "X_train_4, X_test_4, Y_train_4, Y_test_4 = train_test_split(bow_tfidf(\n",
    "                                                                    df['tweet_text'], (1,3)), \n",
    "                                                                    df['label'], test_size=0.2, \n",
    "                                                                    random_state=6\n",
    "                                                                    )\n",
    "\n",
    "\n",
    "svm_model_1 = svm.SVC(kernel='linear')\n",
    "svm_model_1.fit(X_train_1, Y_train_1)\n",
    "predicted_1 = svm_model_1.predict(X_test_1)\n",
    "\n",
    "svm_model_2 = svm.SVC(kernel='linear')\n",
    "svm_model_2.fit(X_train_2, Y_train_2)\n",
    "predicted_2 = svm_model_2.predict(X_test_2)\n",
    "\n",
    "svm_model_3 = svm.SVC(kernel='linear')\n",
    "svm_model_3.fit(X_train_3, Y_train_3)\n",
    "predicted_3 = svm_model_3.predict(X_test_3)\n",
    "\n",
    "svm_model_4 = svm.SVC(kernel='linear')\n",
    "svm_model_4.fit(X_train_4, Y_train_4)\n",
    "predicted_4 = svm_model_4.predict(X_test_4)\n",
    "\n",
    "acc_score_1 = metrics.accuracy_score(predicted_1, Y_test_1)\n",
    "acc_score_2 = metrics.accuracy_score(predicted_2, Y_test_2)\n",
    "acc_score_3 = metrics.accuracy_score(predicted_3, Y_test_3)\n",
    "acc_score_4 = metrics.accuracy_score(predicted_4, Y_test_4)\n",
    "\n",
    "f1_score_1 = metrics.f1_score(predicted_1, Y_test_1, average='macro')\n",
    "f1_score_2 = metrics.f1_score(predicted_2, Y_test_2, average='macro')\n",
    "f1_score_3 = metrics.f1_score(predicted_3, Y_test_3, average='macro')\n",
    "f1_score_4 = metrics.f1_score(predicted_4, Y_test_4, average='macro')\n",
    "\n",
    "scores = [acc_score_1, acc_score_2, acc_score_3, acc_score_4]\n",
    "f1_socres = [f1_score_1, f1_score_2, f1_score_3, f1_score_4]\n",
    "labels = ['unigram', 'unigram, bigram', 'bigram', 'unigram, bigram, trigram']\n",
    "print(f1_socres)\n",
    "print(scores)\n",
    "plt.plot(labels,scores, label='accuracy')\n",
    "plt.plot(labels,f1_socres, label='f1')\n",
    "plt.ylabel('score')\n",
    "plt.ylim((0,1))\n",
    "plt.tight_layout()\n",
    "plt.legend()\n",
    "#plt.savefig(\"../figs/svm_ngrams_compare.png\")\n",
    "plt.show()\n",
    "\n"
   ]
  }
 ],
 "metadata": {
  "interpreter": {
   "hash": "916dbcbb3f70747c44a77c7bcd40155683ae19c65e1c03b4aa3499c5328201f1"
  },
  "kernelspec": {
   "display_name": "Python 3.8.5 64-bit",
   "language": "python",
   "name": "python3"
  },
  "language_info": {
   "codemirror_mode": {
    "name": "ipython",
    "version": 3
   },
   "file_extension": ".py",
   "mimetype": "text/x-python",
   "name": "python",
   "nbconvert_exporter": "python",
   "pygments_lexer": "ipython3",
   "version": "3.8.5"
  },
  "orig_nbformat": 4
 },
 "nbformat": 4,
 "nbformat_minor": 2
}
