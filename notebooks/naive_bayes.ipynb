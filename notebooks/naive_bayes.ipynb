{
 "cells": [
  {
   "cell_type": "code",
   "execution_count": 2,
   "metadata": {},
   "outputs": [],
   "source": [
    "import sys; sys.path.append('..')\n",
    "from feature_extraction import bow_occurrences, bow_tfidf, bow_tfidf_df\n",
    "from preprocess_tweets import read_annotated_tweets, clean_tweets\n",
    "from sklearn.model_selection import train_test_split, KFold, ShuffleSplit, cross_val_score\n",
    "from sklearn.naive_bayes import MultinomialNB\n",
    "from sklearn import metrics\n",
    "import os\n",
    "from numpy import mean, std\n",
    "from sklearn import metrics"
   ]
  },
  {
   "cell_type": "code",
   "execution_count": 3,
   "metadata": {},
   "outputs": [],
   "source": [
    "df = read_annotated_tweets(os.path.abspath('../data/classified/england_italy_tweets_classified1.csv'))\n",
    "clean_tweets(df)\n",
    "\n"
   ]
  },
  {
   "cell_type": "code",
   "execution_count": 4,
   "metadata": {},
   "outputs": [],
   "source": [
    "\n",
    "\n",
    "X_train, X_test, Y_train, Y_test = train_test_split(bow_tfidf(\n",
    "                                                                    df['tweet_text'], (1,1)), \n",
    "                                                                    df['label'], test_size=0.2, \n",
    "                                                                    \n",
    "                                                                    )"
   ]
  },
  {
   "cell_type": "code",
   "execution_count": 5,
   "metadata": {},
   "outputs": [
    {
     "data": {
      "text/plain": [
       "' test = bow_tfidf_df(df[\\'tweet_text\\'], (1,1))\\n#print(test)\\n\\n# Open a file with access mode \\'a\\'\\nwith open(\"./test.txt\", \"a\") as file_object:\\n    file_object.seek(0)\\n    file_object.truncate()\\n\\n    for column in test.columns:\\n        file_object.write(column + \\'\\n\\')\\n '"
      ]
     },
     "execution_count": 5,
     "metadata": {},
     "output_type": "execute_result"
    }
   ],
   "source": [
    "\"\"\" test = bow_tfidf_df(df['tweet_text'], (1,1))\n",
    "#print(test)\n",
    "\n",
    "# Open a file with access mode 'a'\n",
    "with open(\"./test.txt\", \"a\") as file_object:\n",
    "    file_object.seek(0)\n",
    "    file_object.truncate()\n",
    "\n",
    "    for column in test.columns:\n",
    "        file_object.write(column + '\\n')\n",
    " \"\"\""
   ]
  },
  {
   "cell_type": "code",
   "execution_count": 6,
   "metadata": {},
   "outputs": [
    {
     "name": "stdout",
     "output_type": "stream",
     "text": [
      "[0.375      0.41666667 0.54166667 0.4375     0.41666667 0.54166667\n",
      " 0.5625     0.5        0.5        0.35416667]\n",
      "0.4645833333333333\n",
      "0.07037227397522723\n"
     ]
    }
   ],
   "source": [
    "k_fold = KFold(n_splits=10, random_state=1, shuffle=True)\n",
    "rs = ShuffleSplit(n_splits=10, test_size=0.2, random_state=1)\n",
    "\n",
    "mb_model = MultinomialNB()\n",
    "\n",
    "scores = cross_val_score(mb_model, X_train, Y_train, cv=rs)\n",
    "\n",
    "print(scores)\n",
    "print(mean(scores))\n",
    "print(std(scores))"
   ]
  },
  {
   "cell_type": "code",
   "execution_count": null,
   "metadata": {},
   "outputs": [],
   "source": []
  },
  {
   "cell_type": "code",
   "execution_count": 7,
   "metadata": {},
   "outputs": [
    {
     "name": "stdout",
     "output_type": "stream",
     "text": [
      "0.5666666666666667\n"
     ]
    }
   ],
   "source": [
    "mb_model = MultinomialNB()\n",
    "\n",
    "mb_model.fit(X_train, Y_train)\n",
    "\n",
    "predicted = mb_model.predict(X_test)\n",
    "\n",
    "acc_score = metrics.accuracy_score(predicted, Y_test)\n",
    "\n",
    "print(acc_score)"
   ]
  }
 ],
 "metadata": {
  "interpreter": {
   "hash": "916dbcbb3f70747c44a77c7bcd40155683ae19c65e1c03b4aa3499c5328201f1"
  },
  "kernelspec": {
   "display_name": "Python 3.8.5 64-bit",
   "language": "python",
   "name": "python3"
  },
  "language_info": {
   "codemirror_mode": {
    "name": "ipython",
    "version": 3
   },
   "file_extension": ".py",
   "mimetype": "text/x-python",
   "name": "python",
   "nbconvert_exporter": "python",
   "pygments_lexer": "ipython3",
   "version": "3.8.5"
  },
  "orig_nbformat": 4
 },
 "nbformat": 4,
 "nbformat_minor": 2
}
