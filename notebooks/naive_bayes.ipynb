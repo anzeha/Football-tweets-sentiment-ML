{
 "cells": [
  {
   "cell_type": "code",
   "execution_count": 2,
   "metadata": {},
   "outputs": [],
   "source": [
    "import sys; sys.path.append('..')\n",
    "from feature_extraction import bow_occurrences, bow_tfidf, bow_tfidf_df\n",
    "from preprocess_tweets import read_annotated_tweets, clean_tweets\n",
    "from sklearn.model_selection import train_test_split, KFold, ShuffleSplit, cross_val_score\n",
    "from sklearn.naive_bayes import MultinomialNB\n",
    "from sklearn import metrics\n",
    "import os\n",
    "from numpy import mean, std\n",
    "from sklearn import metrics\n",
    "import matplotlib.pyplot as plt"
   ]
  },
  {
   "cell_type": "code",
   "execution_count": 9,
   "metadata": {},
   "outputs": [
    {
     "name": "stdout",
     "output_type": "stream",
     "text": [
      "69\n",
      "92\n",
      "137\n"
     ]
    }
   ],
   "source": [
    "df = read_annotated_tweets(os.path.abspath('../data/classified/england_italy_tweets_classified1.csv'))\n",
    "clean_tweets(df)\n",
    "\n",
    "labels = df['label'].to_list()\n",
    "\n",
    "positives = list(filter(lambda x: str(x) == 'Positive', labels))\n",
    "negatives = list(filter(lambda x: str(x) == 'Negative', labels))\n",
    "neutrals = list(filter(lambda x: str(x) == 'Neutral', labels))\n",
    "\n",
    "print(len(positives))\n",
    "print(len(negatives))\n",
    "print(len(neutrals))\n",
    "\n"
   ]
  },
  {
   "cell_type": "code",
   "execution_count": 4,
   "metadata": {},
   "outputs": [],
   "source": [
    "\n",
    "\n",
    "X_train, X_test, Y_train, Y_test = train_test_split(bow_tfidf(  df['tweet_text'], (1,2)), \n",
    "                                                                df['label'], test_size=0.2, \n",
    "                                                                random_state=6\n",
    "                                                    )"
   ]
  },
  {
   "cell_type": "code",
   "execution_count": 4,
   "metadata": {},
   "outputs": [
    {
     "data": {
      "text/plain": [
       "' test = bow_tfidf_df(df[\\'tweet_text\\'], (1,1))\\n#print(test)\\n\\n# Open a file with access mode \\'a\\'\\nwith open(\"./test.txt\", \"a\") as file_object:\\n    file_object.seek(0)\\n    file_object.truncate()\\n\\n    for column in test.columns:\\n        file_object.write(column + \\'\\n\\')\\n '"
      ]
     },
     "execution_count": 4,
     "metadata": {},
     "output_type": "execute_result"
    }
   ],
   "source": [
    "\"\"\" test = bow_tfidf_df(df['tweet_text'], (1,1))\n",
    "#print(test)\n",
    "\n",
    "# Open a file with access mode 'a'\n",
    "with open(\"./test.txt\", \"a\") as file_object:\n",
    "    file_object.seek(0)\n",
    "    file_object.truncate()\n",
    "\n",
    "    for column in test.columns:\n",
    "        file_object.write(column + '\\n')\n",
    " \"\"\""
   ]
  },
  {
   "cell_type": "code",
   "execution_count": 5,
   "metadata": {},
   "outputs": [
    {
     "name": "stdout",
     "output_type": "stream",
     "text": [
      "[0.52083333 0.52083333 0.47916667 0.5625     0.5625     0.47916667\n",
      " 0.52083333 0.45833333 0.3125     0.47916667]\n",
      "0.48958333333333337\n",
      "0.06798820363366967\n"
     ]
    }
   ],
   "source": [
    "k_fold = KFold(n_splits=10, random_state=1, shuffle=True)\n",
    "rs = ShuffleSplit(n_splits=10, test_size=0.2, random_state=1)\n",
    "\n",
    "mb_model = MultinomialNB()\n",
    "\n",
    "scores = cross_val_score(mb_model, X_train, Y_train, cv=rs)\n",
    "\n",
    "print(scores)\n",
    "print(mean(scores))\n",
    "print(std(scores))"
   ]
  },
  {
   "cell_type": "code",
   "execution_count": 6,
   "metadata": {},
   "outputs": [
    {
     "name": "stdout",
     "output_type": "stream",
     "text": [
      "['Neutral' 'Neutral' 'Neutral' 'Negative' 'Neutral' 'Positive' 'Neutral'\n",
      " 'Neutral' 'Negative' 'Neutral' 'Neutral' 'Neutral' 'Neutral' 'Neutral'\n",
      " 'Neutral' 'Neutral' 'Neutral' 'Neutral' 'Neutral' 'Neutral' 'Negative'\n",
      " 'Neutral' 'Neutral' 'Negative' 'Neutral' 'Neutral' 'Neutral' 'Neutral'\n",
      " 'Neutral' 'Neutral' 'Neutral' 'Negative' 'Neutral' 'Neutral' 'Neutral'\n",
      " 'Neutral' 'Neutral' 'Neutral' 'Neutral' 'Neutral' 'Neutral' 'Neutral'\n",
      " 'Neutral' 'Neutral' 'Neutral' 'Neutral' 'Neutral' 'Neutral' 'Neutral'\n",
      " 'Neutral' 'Neutral' 'Neutral' 'Positive' 'Neutral' 'Neutral' 'Neutral'\n",
      " 'Neutral' 'Neutral' 'Neutral' 'Neutral']\n",
      "0.6\n",
      "0.4702380952380952\n",
      "0.7886792452830189\n",
      "0.4553888066887432\n"
     ]
    }
   ],
   "source": [
    "mb_model = MultinomialNB()\n",
    "\n",
    "mb_model.fit(X_train, Y_train)\n",
    "\n",
    "predicted = mb_model.predict(X_test)\n",
    "print(predicted)\n",
    "\n",
    "acc_score = metrics.accuracy_score(predicted, Y_test)\n",
    "prec_score = metrics.precision_score(predicted, Y_test, average='macro')\n",
    "rec_score = metrics.recall_score(predicted, Y_test, average='macro')\n",
    "f1_score = metrics.f1_score(predicted, Y_test, average='macro')\n",
    "\n",
    "print(acc_score)\n",
    "print(prec_score)\n",
    "print(rec_score)\n",
    "print(f1_score)"
   ]
  },
  {
   "cell_type": "code",
   "execution_count": 8,
   "metadata": {},
   "outputs": [
    {
     "data": {
      "image/png": "[encoded data removed]",
      "text/plain": [
       "<Figure size 432x288 with 1 Axes>"
      ]
     },
     "metadata": {
      "needs_background": "light"
     },
     "output_type": "display_data"
    }
   ],
   "source": [
    "X_train_1, X_test_1, Y_train_1, Y_test_1 = train_test_split(bow_tfidf(\n",
    "                                                                    df['tweet_text'], (1,1)), \n",
    "                                                                    df['label'], test_size=0.2, \n",
    "                                                                    random_state=6\n",
    "                                                                    )\n",
    "\n",
    "X_train_2, X_test_2, Y_train_2, Y_test_2 = train_test_split(bow_tfidf(\n",
    "                                                                    df['tweet_text'], (1,2)), \n",
    "                                                                    df['label'], test_size=0.2, \n",
    "                                                                    random_state=6\n",
    "                                                                    )\n",
    "\n",
    "X_train_3, X_test_3, Y_train_3, Y_test_3 = train_test_split(bow_tfidf(\n",
    "                                                                    df['tweet_text'], (2,2)), \n",
    "                                                                    df['label'], test_size=0.2, \n",
    "                                                                    random_state=6\n",
    "                                                                    )\n",
    "\n",
    "X_train_4, X_test_4, Y_train_4, Y_test_4 = train_test_split(bow_tfidf(\n",
    "                                                                    df['tweet_text'], (1,3)), \n",
    "                                                                    df['label'], test_size=0.2, \n",
    "                                                                    random_state=6\n",
    "                                                                    )\n",
    "\n",
    "\n",
    "mb_model_1 = MultinomialNB()\n",
    "mb_model_1.fit(X_train_1, Y_train_1)\n",
    "predicted_1 = mb_model_1.predict(X_test_1)\n",
    "\n",
    "mb_model_2 = MultinomialNB()\n",
    "mb_model_2.fit(X_train_2, Y_train_2)\n",
    "predicted_2 = mb_model_2.predict(X_test_2)\n",
    "\n",
    "mb_model_3 = MultinomialNB()\n",
    "mb_model_3.fit(X_train_3, Y_train_3)\n",
    "predicted_3 = mb_model_3.predict(X_test_3)\n",
    "\n",
    "mb_model_4 = MultinomialNB()\n",
    "mb_model_4.fit(X_train_4, Y_train_4)\n",
    "predicted_4 = mb_model_4.predict(X_test_4)\n",
    "\n",
    "acc_score_1 = metrics.accuracy_score(predicted_1, Y_test_1)\n",
    "acc_score_2 = metrics.accuracy_score(predicted_2, Y_test_2)\n",
    "acc_score_3 = metrics.accuracy_score(predicted_3, Y_test_3)\n",
    "acc_score_4 = metrics.accuracy_score(predicted_4, Y_test_4)\n",
    "\n",
    "f1_score_1 = metrics.f1_score(predicted_1, Y_test_1, average='macro')\n",
    "f1_score_2 = metrics.f1_score(predicted_2, Y_test_2, average='macro')\n",
    "f1_score_3 = metrics.f1_score(predicted_3, Y_test_3, average='macro')\n",
    "f1_score_4 = metrics.f1_score(predicted_4, Y_test_4, average='macro')\n",
    "\n",
    "scores = [acc_score_1, acc_score_2, acc_score_3, acc_score_4]\n",
    "f1_socres = [f1_score_1, f1_score_2, f1_score_3, f1_score_4]\n",
    "labels = ['unigram', 'unigram, bigram', 'bigram', 'unigram, bigram, trigram']\n",
    "\n",
    "plt.plot(labels,scores, label='accuracy')\n",
    "plt.plot(labels,f1_socres, label='f1')\n",
    "plt.ylabel('score')\n",
    "plt.ylim((0,1))\n",
    "plt.tight_layout()\n",
    "plt.legend()\n",
    "plt.savefig(\"../figs/mnb_ngrams_compare.png\")\n",
    "plt.show()"
   ]
  }
 ],
 "metadata": {
  "interpreter": {
   "hash": "916dbcbb3f70747c44a77c7bcd40155683ae19c65e1c03b4aa3499c5328201f1"
  },
  "kernelspec": {
   "display_name": "Python 3.8.5 64-bit",
   "language": "python",
   "name": "python3"
  },
  "language_info": {
   "codemirror_mode": {
    "name": "ipython",
    "version": 3
   },
   "file_extension": ".py",
   "mimetype": "text/x-python",
   "name": "python",
   "nbconvert_exporter": "python",
   "pygments_lexer": "ipython3",
   "version": "3.8.5"
  },
  "orig_nbformat": 4
 },
 "nbformat": 4,
 "nbformat_minor": 2
}
